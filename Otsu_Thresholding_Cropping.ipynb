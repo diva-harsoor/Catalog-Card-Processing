{
 "cells": [
  {
   "cell_type": "markdown",
   "metadata": {},
   "source": [
    "We used the OpenCV module to apply Otsu's Thresholding method on the images. The following command allowed us to install OpenCV:\n",
    "* conda install --channel https://conda.anaconda.org/menpo opencv3\n",
    "\n",
    "\n",
    "\n",
    "These cells apply Otsu's Thresholding method to binariaze the images, which are saved in a new folder called `peabody_files_otsu`. (folder is on Google Drive).\n",
    "Afterwards, we use the Scikit-Image library to crop the images."
   ]
  },
  {
   "cell_type": "code",
   "execution_count": 2,
   "metadata": {
    "collapsed": false
   },
   "outputs": [],
   "source": [
    "import numpy as np\n",
    "from PIL import Image\n",
    "import cv2\n",
    "import os\n",
    "from skimage import io\n",
    "from sklearn.cluster import DBSCAN\n",
    "from matplotlib import pyplot as plt\n",
    "import re\n",
    "%matplotlib inline"
   ]
  },
  {
   "cell_type": "code",
   "execution_count": 2,
   "metadata": {
    "collapsed": false
   },
   "outputs": [],
   "source": [
    "def otsu_threshold(im_path):\n",
    "    im = Image.open(im_path)\n",
    "    im = cv2.cvtColor(np.array(im),cv2.COLOR_RGB2GRAY)\n",
    "    im = im[10:im.shape[0]-10,10:im.shape[1]-10]\n",
    "    height,width = im.shape\n",
    "    t, d = cv2.threshold(im,0,255,cv2.THRESH_BINARY+cv2.THRESH_OTSU)\n",
    "    return d"
   ]
  },
  {
   "cell_type": "code",
   "execution_count": 3,
   "metadata": {
    "collapsed": true
   },
   "outputs": [],
   "source": [
    "acc_nums = ['1','2','3','4','5','6','7','16','17','18','20','21','22','23','24','25']"
   ]
  },
  {
   "cell_type": "markdown",
   "metadata": {},
   "source": [
    "The following two cells create the new folder containing the binarized images."
   ]
  },
  {
   "cell_type": "code",
   "execution_count": 4,
   "metadata": {
    "collapsed": false
   },
   "outputs": [
    {
     "ename": "FileExistsError",
     "evalue": "[Errno 17] File exists: 'peabody_files_otsu'",
     "output_type": "error",
     "traceback": [
      "\u001b[0;31m---------------------------------------------------------------------------\u001b[0m",
      "\u001b[0;31mFileExistsError\u001b[0m                           Traceback (most recent call last)",
      "\u001b[0;32m<ipython-input-4-c8a29bc167ec>\u001b[0m in \u001b[0;36m<module>\u001b[0;34m()\u001b[0m\n\u001b[1;32m      1\u001b[0m \u001b[0msave_folder\u001b[0m \u001b[0;34m=\u001b[0m \u001b[0;34m(\u001b[0m\u001b[0;34m\"peabody_files_otsu\"\u001b[0m\u001b[0;34m)\u001b[0m\u001b[0;34m\u001b[0m\u001b[0m\n\u001b[0;32m----> 2\u001b[0;31m \u001b[0mos\u001b[0m\u001b[0;34m.\u001b[0m\u001b[0mmkdir\u001b[0m\u001b[0;34m(\u001b[0m\u001b[0msave_folder\u001b[0m\u001b[0;34m)\u001b[0m\u001b[0;34m\u001b[0m\u001b[0m\n\u001b[0m\u001b[1;32m      3\u001b[0m \u001b[0mos\u001b[0m\u001b[0;34m.\u001b[0m\u001b[0mmkdir\u001b[0m\u001b[0;34m(\u001b[0m\u001b[0;34m\"peabody_files_otsu/Accession_Files\"\u001b[0m\u001b[0;34m)\u001b[0m\u001b[0;34m\u001b[0m\u001b[0m\n",
      "\u001b[0;31mFileExistsError\u001b[0m: [Errno 17] File exists: 'peabody_files_otsu'"
     ]
    }
   ],
   "source": [
    "save_folder = (\"peabody_files_otsu\")\n",
    "os.mkdir(save_folder)\n",
    "os.mkdir(\"peabody_files_otsu/Accession_Files\")"
   ]
  },
  {
   "cell_type": "code",
   "execution_count": 20,
   "metadata": {
    "collapsed": false
   },
   "outputs": [],
   "source": [
    "rootdir = 'peabody_files/Accession_Files'\n",
    "\n",
    "for acc_no in acc_nums:\n",
    "    ## Creates new folder to save files in\n",
    "    new_folder_path = \"peabody_files_otsu/Accession_Files/Acc._No._\" + str(acc_no)\n",
    "    os.mkdir(new_folder_path)\n",
    "    \n",
    "    ## Finding image\n",
    "    path = rootdir + \"/Acc._No._\" + str(acc_no)\n",
    "    for file,subdir,filelist in os.walk(path):\n",
    "        for image_name in filelist:\n",
    "            image_path = path + \"/\" + image_name\n",
    "            image_save_name = image_name + \".png\"\n",
    "            save_path = new_folder_path + \"/\" + image_save_name\n",
    "            cv2.imwrite(save_path,otsu_threshold(image_path))"
   ]
  },
  {
   "cell_type": "markdown",
   "metadata": {},
   "source": [
    "Otsu's thresholding reduces a grayscale image to a binary image (black and white). This process assumes that sections of the image are part of the foreground and that sections are part of the background, and finds the best threshold value such that the sum of the pixel values on each side of the threshold value is equal to zero. "
   ]
  },
  {
   "cell_type": "markdown",
   "metadata": {
    "collapsed": true
   },
   "source": [
    "In the next cells we use skimage to crop the binarized images, and save these pieces into a dictionary."
   ]
  },
  {
   "cell_type": "code",
   "execution_count": 5,
   "metadata": {
    "collapsed": true
   },
   "outputs": [],
   "source": [
    "def crop_image(sk_im):\n",
    "    'Takes a skimage image file and crops the image, returns a dictionary of the pieces.'\n",
    "    pieces = {}\n",
    "    left_box = sk_im[5:600,5:420]\n",
    "    length,height = left_box.shape[1],int(left_box.shape[0]/4)\n",
    "    left_box_pieces = [left_box[i*height-height:i*height,0:length] for i in range(1,5)]\n",
    "    \n",
    "    right_box = sk_im[5:600,470:1770]\n",
    "    length,height = right_box.shape[1], int(right_box.shape[0]/4)\n",
    "    right_box_pieces = [right_box[i*height-height:i*height,0:length] for i in range(1,5)]\n",
    "    \n",
    "    bottom_box = sk_im[620:1100,10:1775]\n",
    "    length,height = bottom_box.shape[1],int(bottom_box.shape[0]/4)\n",
    "    bottom_box_pieces = [bottom_box[i*height-height:i*height,0:length] for i in range(1,4)]\n",
    "    \n",
    "    names = ['cat_no','acc_no','orig_no','photo_no']\n",
    "    pieces.update(dict(zip(names,left_box_pieces)))\n",
    "    \n",
    "    names = ['name','site','site_no','locality']\n",
    "    pieces.update(dict(zip(names,right_box_pieces)))\n",
    "    \n",
    "    names = ['situation','remarks','figured']\n",
    "    pieces.update(dict(zip(names,bottom_box_pieces)))\n",
    "    \n",
    "    return pieces"
   ]
  },
  {
   "cell_type": "code",
   "execution_count": 7,
   "metadata": {
    "collapsed": false
   },
   "outputs": [],
   "source": [
    "rootdir = 'peabody_files_otsu/Accession_Files'\n",
    "filed_dict = {} ## each key contains an array of the dictionaries of cropped images\n",
    "total_array = [] ## contains all dictionaries of cropped images, not filed\n",
    "for acc_no in acc_nums:\n",
    "    path = rootdir + \"/Acc._No._\" + str(acc_no)\n",
    "    folder = []\n",
    "    for file,subdir,filelist in os.walk(path):\n",
    "        for image_name in filelist:\n",
    "            image_path = path + \"/\" + image_name\n",
    "            image = io.imread(image_path)\n",
    "            ### if you want `folder` to be a dictionary with keys of image names eg. key = 1_0016\n",
    "            \n",
    "            # folder = {} \n",
    "            # folder[re.sub(\"[\\w.]\",\"\",image_name)] = crop_image(image)\n",
    "            \n",
    "            ### otherwise folder is an array\n",
    "            \n",
    "            folder.append(crop_image(image)) \n",
    "            \n",
    "    total_array.append(folder)\n",
    "    filed_dict[acc_no] = folder"
   ]
  },
  {
   "cell_type": "markdown",
   "metadata": {},
   "source": [
    "The above cell goes through all of the binarized images in each accession-number folder. In each accession-number folder, all of the images are cropped by the labels on the images. The pieces of these images can be accessed through a dictionary, where the keys are the labels on the image. There is one dictionary per image. Then, the dictionaries for each image under an accession number are added into an array. This array can be accessed through the dictionary called `filed_dict`."
   ]
  },
  {
   "cell_type": "markdown",
   "metadata": {},
   "source": [
    "If we want to see the piece containing `name` in the first image in the Accession No. 1 folder, for example, we can use the following code."
   ]
  },
  {
   "cell_type": "code",
   "execution_count": 10,
   "metadata": {
    "collapsed": false
   },
   "outputs": [
    {
     "data": {
      "image/png": "[encoded data removed]",
      "text/plain": [
       "<matplotlib.figure.Figure at 0x115f10f28>"
      ]
     },
     "metadata": {},
     "output_type": "display_data"
    }
   ],
   "source": [
    "io.imshow(filed_dict['1'][0]['name'],cmap='gray',vmin=0,vmax=225)\n",
    "plt.show()"
   ]
  }
 ],
 "metadata": {
  "anaconda-cloud": {},
  "kernelspec": {
   "display_name": "Python [Root]",
   "language": "python",
   "name": "Python [Root]"
  },
  "language_info": {
   "codemirror_mode": {
    "name": "ipython",
    "version": 3
   },
   "file_extension": ".py",
   "mimetype": "text/x-python",
   "name": "python",
   "nbconvert_exporter": "python",
   "pygments_lexer": "ipython3",
   "version": "3.5.2"
  }
 },
 "nbformat": 4,
 "nbformat_minor": 0
}
