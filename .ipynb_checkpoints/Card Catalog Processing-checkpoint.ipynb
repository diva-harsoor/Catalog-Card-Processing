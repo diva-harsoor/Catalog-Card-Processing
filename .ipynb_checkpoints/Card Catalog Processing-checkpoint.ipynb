{
 "cells": [
  {
   "cell_type": "markdown",
   "metadata": {},
   "source": [
    "CSC 630/1 Zufelt <br>\n",
    "Michelle Chao, Sam Xifaras, Darius Lam, Moe Sunami, Diva Harsoor\n",
    "\n",
    "# Catalog Card Processing\n",
    "Creating a training dataset for object character recognition in order to read catalog cards (Robert S. Peabody Museum of Archaeology, 1930s to 1970s)\n",
    "___"
   ]
  },
  {
   "cell_type": "markdown",
   "metadata": {},
   "source": [
    "Given scanned PDFs of typewritten catalog cards, our goal is to create a dataset in which each row is a set of images of each character in a card.<br> <br>\n",
    "Tasks: \n",
    "<ul>\n",
    "    <li>Convert PDFs to TIFFs</li>\n",
    "    <li>Cut the images into different sections corresponding to data type </li>\n",
    "    <li>Cut the images into characters and add each image as a row of a DataFrame </li>\n",
    "    <li>Label the DataFrame with the proper character labels</li>\n",
    "    <li>Write a script that presents a user with a randomly generated row/image and its corresponding label (to check for accuracy)</li>\n",
    "    <li>Display the process in this Jupyter Notebook</li>\n",
    "</ul>\n",
    "___"
   ]
  },
  {
   "cell_type": "markdown",
   "metadata": {},
   "source": [
    "_Here we'll explain trying to use Ghostscript with Python 3 and how Sam used PostScript instead (including the code)_"
   ]
  },
  {
   "cell_type": "markdown",
   "metadata": {},
   "source": [
    "_Declare our DataFrame and so on_"
   ]
  },
  {
   "cell_type": "markdown",
   "metadata": {},
   "source": [
    "The functions below make calls to the following script, `util.sh`, which performs two important functions. First, the `merge` function, meant to be performed only once, moves all of the pdfs from their respective Acc. No. directories to the parent directory, `Accession Files`. This was more for convenience, because dealing with file names with spaces in bash is a hassle, and the accession numbers are indicated in the filenames, so we aren't losing any information when doing this.\n",
    "\n",
    "Here is the code:\n",
    "   \n",
    "```\n",
    "# util.sh\n",
    "\n",
    "if [ \"$1\" == \"merge\" ]\n",
    "then\n",
    "    pushd \"$2\"\n",
    "    for f in *\n",
    "    do\n",
    "        echo \"Moving files from $f\"\n",
    "        pushd \"$f\"\n",
    "        cp * ../ -fpv\n",
    "        popd\n",
    "        \n",
    "        echo \"Removing $f\"\n",
    "        rm \"$f\" -fR\n",
    "    done \n",
    "    popd\n",
    "\n",
    "elif [ \"$1\" == \"convert\" ]\n",
    "then\n",
    "\n",
    "    ACCNO=$2\n",
    "    CATNO=$3\n",
    "\n",
    "    # This is the path to the peabody_files directory\n",
    "    ROOT=$4\n",
    "\n",
    "    # Path to the ghostscript executable\n",
    "    GS=$5\n",
    "\n",
    "    pushd \"${ROOT}\"\n",
    "\n",
    "    \"$GS\" -dNOPAUSE -r300 -sDEVICE=tiffscaled24 -sCompression=lzw -dBATCH -sOutputFile=${ACCNO}_${CATNO}.tif ${ACCNO}_${CATNO}.pdf\n",
    "\n",
    "    popd\n",
    "\n",
    "fi \n",
    "\n",
    "\n",
    "\n",
    "\n",
    "```"
   ]
  },
  {
   "cell_type": "code",
   "execution_count": 11,
   "metadata": {
    "collapsed": true
   },
   "outputs": [],
   "source": [
    "import subprocess\n",
    "from PIL import Image"
   ]
  },
  {
   "cell_type": "code",
   "execution_count": 14,
   "metadata": {
    "collapsed": true
   },
   "outputs": [],
   "source": [
    "def merge(acc_files_dir='peabody_files/Accession Files'):\n",
    "    \n",
    "    \"\"\"\n",
    "    Moves all the pdfs to the parent directory, so that all the pdfs are in one directory, \n",
    "    and deletes all the 'Acc. No.' directories.\n",
    "    \"\"\"\n",
    "    return subprocess.call([\"sh\", \"util.sh\", \"merge\", acc_files_dir])\n",
    "\n",
    "def convert(acc_no, cat_no, gs_exec, acc_files_dir='peabody_files/Accession Files'):\n",
    "\n",
    "    # Convert a specified pdf to tif\n",
    "    subprocess.call([\"sh\", \"util.sh\", \"convert\", str(acc_no), str(cat_no).zfill(4), acc_files_dir, gs_exec])\n",
    "    \n",
    "    FNAME = str(acc_no) + '_' + str(cat_no).zfill(4)\n",
    "    # Open the tif as a pillow object, delete the tif file, and return it\n",
    "    \n",
    "    tif = Image.open(acc_files_dir + '/' + FNAME + '.tif')\n",
    "    \n",
    "    subprocess.call(['rm', FNAME + '.tif'])\n",
    "    \n",
    "    return tif"
   ]
  },
  {
   "cell_type": "code",
   "execution_count": 5,
   "metadata": {
    "collapsed": false
   },
   "outputs": [
    {
     "data": {
      "text/plain": [
       "0"
      ]
     },
     "execution_count": 5,
     "metadata": {},
     "output_type": "execute_result"
    }
   ],
   "source": [
    "# Run this if the pdfs are still organized into their respective directories.\n",
    "# merge()"
   ]
  },
  {
   "cell_type": "code",
   "execution_count": 15,
   "metadata": {
    "collapsed": false
   },
   "outputs": [],
   "source": [
    "# Example of opening an image\n",
    "img = convert(1, 2, 'C:/Program Files/gs/gs9.20/bin/gswin64c.exe')"
   ]
  }
 ],
 "metadata": {
  "anaconda-cloud": {},
  "kernelspec": {
   "display_name": "Python [Root]",
   "language": "python",
   "name": "Python [Root]"
  },
  "language_info": {
   "codemirror_mode": {
    "name": "ipython",
    "version": 3
   },
   "file_extension": ".py",
   "mimetype": "text/x-python",
   "name": "python",
   "nbconvert_exporter": "python",
   "pygments_lexer": "ipython3",
   "version": "3.5.2"
  }
 },
 "nbformat": 4,
 "nbformat_minor": 0
}
