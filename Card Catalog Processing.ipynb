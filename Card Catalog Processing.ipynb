{
 "cells": [
  {
   "cell_type": "markdown",
   "metadata": {},
   "source": [
    "CSC 630/1 Zufelt <br>\n",
    "Michelle Chao, Sam Xifaras, Darius Lam, Moe Sunami, Diva Harsoor\n",
    "\n",
    "# Catalog Card Processing\n",
    "Creating a training dataset for object character recognition in order to read catalog cards (Robert S. Peabody Museum of Archaeology, 1930s to 1970s)\n",
    "___"
   ]
  },
  {
   "cell_type": "markdown",
   "metadata": {},
   "source": [
    "Given scanned PDFs of typewritten catalog cards, our goal is to create a dataset in which each row is a set of images of each character in a card.<br> <br>\n",
    "Tasks: \n",
    "<ul>\n",
    "    <li>Convert PDFs to TIFFs</li>\n",
    "    <li>Cut the images into characters and add each image as a row of a DataFrame </li>\n",
    "    <li>Label the DataFrame with the proper character labels</li>\n",
    "    <li>Write a script that presents a user with a randomly generated row/image and its corresponding label (to check for accuracy)</li>\n",
    "    <li>Display the process in this Jupyter Notebook</li>\n",
    "</ul>\n",
    "___"
   ]
  },
  {
   "cell_type": "markdown",
   "metadata": {},
   "source": [
    "_Here we'll explain trying to use Ghostscript with Python 3 and how Sam used PostScript instead (including the code)_"
   ]
  },
  {
   "cell_type": "markdown",
   "metadata": {},
   "source": [
    "_Declare our DataFrame and so on_"
   ]
  }
 ],
 "metadata": {
  "anaconda-cloud": {},
  "kernelspec": {
   "display_name": "Python [Root]",
   "language": "python",
   "name": "Python [Root]"
  },
  "language_info": {
   "codemirror_mode": {
    "name": "ipython",
    "version": 3
   },
   "file_extension": ".py",
   "mimetype": "text/x-python",
   "name": "python",
   "nbconvert_exporter": "python",
   "pygments_lexer": "ipython3",
   "version": "3.5.2"
  }
 },
 "nbformat": 4,
 "nbformat_minor": 0
}
